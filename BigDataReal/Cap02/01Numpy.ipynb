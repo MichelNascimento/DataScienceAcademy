{
 "cells": [
  {
   "cell_type": "code",
   "execution_count": 3,
   "id": "b01646ba",
   "metadata": {},
   "outputs": [
    {
     "name": "stdout",
     "output_type": "stream",
     "text": [
      "Versão da Linguagem Python usada neste Jupyter Notebook:  3.9.13\n"
     ]
    }
   ],
   "source": [
    "# Versão Python \n",
    "from platform import python_version\n",
    "print(\"Versão da Linguagem Python usada neste Jupyter Notebook: \", python_version())"
   ]
  },
  {
   "cell_type": "code",
   "execution_count": null,
   "id": "1b05fe37",
   "metadata": {},
   "outputs": [],
   "source": [
    "# Para Instalar a versão exata de um pacote\n",
    "!pip install numpy==1.21.3\n",
    "\n",
    "# Para atualizar um pacote na versão mais recete\n",
    "# !pip install -U nome_pacote"
   ]
  },
  {
   "cell_type": "code",
   "execution_count": 4,
   "id": "94ed92f8",
   "metadata": {},
   "outputs": [],
   "source": [
    "# Intalar o pcacote watermark\n",
    "# Esse pacote é usado para gravar as versões de outros pcacotes usadados neste jupyter notebook.\n",
    "!pip install -q -U watermark"
   ]
  },
  {
   "cell_type": "code",
   "execution_count": 5,
   "id": "2ae9a166",
   "metadata": {},
   "outputs": [],
   "source": [
    "# Importando o módulo NumPy\n",
    "import numpy as np"
   ]
  },
  {
   "cell_type": "code",
   "execution_count": 13,
   "id": "2ded28d2",
   "metadata": {
    "scrolled": true
   },
   "outputs": [
    {
     "name": "stdout",
     "output_type": "stream",
     "text": [
      "Author: Data Science Academy\n",
      "\n",
      "numpy: 1.21.3\n",
      "\n"
     ]
    }
   ],
   "source": [
    "# Versões dos pacotes usados neste jupyter notebook\n",
    "%reload_ext watermark\n",
    "%watermark -a \"Data Science Academy\" --iversions"
   ]
  },
  {
   "cell_type": "code",
   "execution_count": null,
   "id": "d61d5c1a",
   "metadata": {},
   "outputs": [],
   "source": []
  },
  {
   "cell_type": "code",
   "execution_count": null,
   "id": "617b7fce",
   "metadata": {},
   "outputs": [],
   "source": []
  },
  {
   "cell_type": "markdown",
   "id": "20cdce81",
   "metadata": {},
   "source": [
    "\n",
    "\n",
    "\n",
    "ESTRUTURAS DE DADOS NUMPY\n",
    "\n",
    "np.array([..]) \n",
    "função que permite criar uma array utilizando o NumPy\n",
    "\n",
    "array.ndim\n",
    "Verifica o número de dimensão\n",
    "\n",
    "array.shape\n",
    "Verifica o formato do array (4,) ou (2,3)"
   ]
  },
  {
   "cell_type": "code",
   "execution_count": 15,
   "id": "f326696a",
   "metadata": {},
   "outputs": [],
   "source": [
    "# Criando uma array unidimensional e passando para o NumPy\n",
    "array1 = np.array([10,20,30,40])"
   ]
  },
  {
   "cell_type": "code",
   "execution_count": 16,
   "id": "254aca61",
   "metadata": {},
   "outputs": [
    {
     "name": "stdout",
     "output_type": "stream",
     "text": [
      "[10 20 30 40]\n"
     ]
    }
   ],
   "source": [
    "print(array1)"
   ]
  },
  {
   "cell_type": "code",
   "execution_count": 17,
   "id": "f10e7364",
   "metadata": {},
   "outputs": [
    {
     "data": {
      "text/plain": [
       "(4,)"
      ]
     },
     "execution_count": 17,
     "metadata": {},
     "output_type": "execute_result"
    }
   ],
   "source": [
    "# Verifica o formagto (shape) do array\n",
    "array1.shape \n",
    "# (4,) indica que possui uma array de uma dimensão com 4 elementos"
   ]
  },
  {
   "cell_type": "code",
   "execution_count": 18,
   "id": "27ccb3a1",
   "metadata": {},
   "outputs": [
    {
     "data": {
      "text/plain": [
       "1"
      ]
     },
     "execution_count": 18,
     "metadata": {},
     "output_type": "execute_result"
    }
   ],
   "source": [
    "# Verifica o número de dimensões\n",
    "array1.ndim"
   ]
  },
  {
   "cell_type": "code",
   "execution_count": 20,
   "id": "fcd4be20",
   "metadata": {},
   "outputs": [],
   "source": [
    "# Criando array bi-dimensional\n",
    "array2 = np.array([[100, 83, 15],[42, 78, 0]])"
   ]
  },
  {
   "cell_type": "code",
   "execution_count": 21,
   "id": "4740561b",
   "metadata": {},
   "outputs": [
    {
     "name": "stdout",
     "output_type": "stream",
     "text": [
      "[[100  83  15]\n",
      " [ 42  78   0]]\n"
     ]
    }
   ],
   "source": [
    "print(array2)"
   ]
  },
  {
   "cell_type": "code",
   "execution_count": 23,
   "id": "03cc6825",
   "metadata": {},
   "outputs": [
    {
     "data": {
      "text/plain": [
       "(2, 3)"
      ]
     },
     "execution_count": 23,
     "metadata": {},
     "output_type": "execute_result"
    }
   ],
   "source": [
    "array2.shape\n",
    "# (2, 3)\n",
    "# informa que possui duas dimensões com 3 elementos"
   ]
  },
  {
   "cell_type": "code",
   "execution_count": 25,
   "id": "7f70e81c",
   "metadata": {},
   "outputs": [
    {
     "data": {
      "text/plain": [
       "2"
      ]
     },
     "execution_count": 25,
     "metadata": {},
     "output_type": "execute_result"
    }
   ],
   "source": [
    "array2.ndim"
   ]
  },
  {
   "cell_type": "code",
   "execution_count": null,
   "id": "2acd92eb",
   "metadata": {},
   "outputs": [],
   "source": []
  },
  {
   "cell_type": "code",
   "execution_count": null,
   "id": "eb33ac2f",
   "metadata": {},
   "outputs": [],
   "source": []
  },
  {
   "cell_type": "markdown",
   "id": "6daaa798",
   "metadata": {},
   "source": [
    "ESTRURURAS DE DADOS COM ARANGE\n",
    "\n",
    "np.arange([..])  \n",
    "Função que criar uma array com o número de elementos que for passado como parâmetro\n",
    "\n"
   ]
  },
  {
   "cell_type": "code",
   "execution_count": 27,
   "id": "8799ff69",
   "metadata": {},
   "outputs": [],
   "source": [
    "array3 = np.arange(15)"
   ]
  },
  {
   "cell_type": "code",
   "execution_count": 28,
   "id": "5829efb0",
   "metadata": {},
   "outputs": [
    {
     "data": {
      "text/plain": [
       "array([ 0,  1,  2,  3,  4,  5,  6,  7,  8,  9, 10, 11, 12, 13, 14])"
      ]
     },
     "execution_count": 28,
     "metadata": {},
     "output_type": "execute_result"
    }
   ],
   "source": [
    "array3"
   ]
  },
  {
   "cell_type": "code",
   "execution_count": 30,
   "id": "48723c81",
   "metadata": {},
   "outputs": [],
   "source": [
    "# Usando start/end \n",
    "array4 = np.arange(0, 15, 3)\n",
    "# 0 é o valor inicial\n",
    "# 15 é o valor final\n",
    "# 3 é o número de saltos"
   ]
  },
  {
   "cell_type": "code",
   "execution_count": 31,
   "id": "29d592bf",
   "metadata": {},
   "outputs": [
    {
     "data": {
      "text/plain": [
       "array([ 0,  3,  6,  9, 12])"
      ]
     },
     "execution_count": 31,
     "metadata": {},
     "output_type": "execute_result"
    }
   ],
   "source": [
    "array4 # (4,) ou (2,3)"
   ]
  },
  {
   "cell_type": "code",
   "execution_count": null,
   "id": "4c906371",
   "metadata": {},
   "outputs": [],
   "source": []
  },
  {
   "cell_type": "code",
   "execution_count": null,
   "id": "f574308d",
   "metadata": {},
   "outputs": [],
   "source": []
  },
  {
   "cell_type": "markdown",
   "id": "1e1e3a7b",
   "metadata": {},
   "source": [
    "ESTRUTURAS DE DADOS COM LINSPACE\n",
    "\n",
    "np.linspace([ ]): array\n",
    "Fubção que criar um espaço linear para os valores que tiver no array"
   ]
  },
  {
   "cell_type": "code",
   "execution_count": 35,
   "id": "75490666",
   "metadata": {},
   "outputs": [],
   "source": [
    "array5 = np.linspace(0, 3, 4)"
   ]
  },
  {
   "cell_type": "code",
   "execution_count": 36,
   "id": "b793e450",
   "metadata": {},
   "outputs": [
    {
     "data": {
      "text/plain": [
       "array([0., 1., 2., 3.])"
      ]
     },
     "execution_count": 36,
     "metadata": {},
     "output_type": "execute_result"
    }
   ],
   "source": [
    "array5 # array([0., 1., 2., 3.])"
   ]
  },
  {
   "cell_type": "code",
   "execution_count": null,
   "id": "85071507",
   "metadata": {},
   "outputs": [],
   "source": []
  },
  {
   "cell_type": "code",
   "execution_count": null,
   "id": "f95f293e",
   "metadata": {},
   "outputs": [],
   "source": []
  },
  {
   "cell_type": "markdown",
   "id": "d18ddc2b",
   "metadata": {},
   "source": [
    "ESTRUTURAS DE DADOS COM OUTRAS FUNÇÕES\n",
    "\n",
    "numpy.zeros (arrays preenchidos com 0)\n",
    "\n",
    "numpy.ones (arrays preenchidos com 1)\n",
    "\n",
    "numpy.eye (arrays com matriz identidade 1 e 0)\n",
    "\n",
    "numpy.diag (arrays com matriz diagona)\n",
    "\n",
    "numpy.random.rand (preenchidos com valores aleatórios)\n",
    "\n",
    "numpy.empty (preenchimento vazio)\n",
    "\n",
    "numpy.tile (duplicando uma array)\n"
   ]
  },
  {
   "cell_type": "code",
   "execution_count": 38,
   "id": "a1f93e6e",
   "metadata": {},
   "outputs": [
    {
     "data": {
      "text/plain": [
       "array([[0., 0., 0., 0., 0., 0., 0., 0.],\n",
       "       [0., 0., 0., 0., 0., 0., 0., 0.],\n",
       "       [0., 0., 0., 0., 0., 0., 0., 0.],\n",
       "       [0., 0., 0., 0., 0., 0., 0., 0.],\n",
       "       [0., 0., 0., 0., 0., 0., 0., 0.],\n",
       "       [0., 0., 0., 0., 0., 0., 0., 0.],\n",
       "       [0., 0., 0., 0., 0., 0., 0., 0.],\n",
       "       [0., 0., 0., 0., 0., 0., 0., 0.],\n",
       "       [0., 0., 0., 0., 0., 0., 0., 0.],\n",
       "       [0., 0., 0., 0., 0., 0., 0., 0.]])"
      ]
     },
     "execution_count": 38,
     "metadata": {},
     "output_type": "execute_result"
    }
   ],
   "source": [
    "array6 = np.zeros((10, 8)); array6\n",
    "# array([[0., 0., 0., 0., 0., 0., 0., 0.],\n",
    " #      [0., 0., 0., 0., 0., 0., 0., 0.],\n",
    " #      [0., 0., 0., 0., 0., 0., 0., 0.],\n",
    " #      [0., 0., 0., 0., 0., 0., 0., 0.],\n",
    " #      [0., 0., 0., 0., 0., 0., 0., 0.],\n",
    " #      [0., 0., 0., 0., 0., 0., 0., 0.],\n",
    " #      [0., 0., 0., 0., 0., 0., 0., 0.],\n",
    " #      [0., 0., 0., 0., 0., 0., 0., 0.],\n",
    " #      [0., 0., 0., 0., 0., 0., 0., 0.],\n",
    " #      [0., 0., 0., 0., 0., 0., 0., 0.]])"
   ]
  },
  {
   "cell_type": "code",
   "execution_count": 39,
   "id": "c056a2f9",
   "metadata": {},
   "outputs": [
    {
     "data": {
      "text/plain": [
       "array([[[1., 1.],\n",
       "        [1., 1.],\n",
       "        [1., 1.]],\n",
       "\n",
       "       [[1., 1.],\n",
       "        [1., 1.],\n",
       "        [1., 1.]]])"
      ]
     },
     "execution_count": 39,
     "metadata": {},
     "output_type": "execute_result"
    }
   ],
   "source": [
    "array7 = np.ones((2, 3, 2)); array7\n",
    "# array([[[1., 1.],\n",
    "#        [1., 1.],\n",
    "#        [1., 1.]],\n",
    "\n",
    "#       [[1., 1.],\n",
    "#        [1., 1.],\n",
    "#        [1., 1.]]])"
   ]
  },
  {
   "cell_type": "code",
   "execution_count": 40,
   "id": "d0b03853",
   "metadata": {},
   "outputs": [
    {
     "data": {
      "text/plain": [
       "array([[1., 0., 0.],\n",
       "       [0., 1., 0.],\n",
       "       [0., 0., 1.]])"
      ]
     },
     "execution_count": 40,
     "metadata": {},
     "output_type": "execute_result"
    }
   ],
   "source": [
    "array8 = np.eye(3); array8\n",
    "# array([[1., 0., 0.],\n",
    "#       [0., 1., 0.],\n",
    "#       [0., 0., 1.]])"
   ]
  },
  {
   "cell_type": "code",
   "execution_count": 41,
   "id": "1aeaef7f",
   "metadata": {},
   "outputs": [
    {
     "data": {
      "text/plain": [
       "array([[2, 0, 0, 0],\n",
       "       [0, 1, 0, 0],\n",
       "       [0, 0, 4, 0],\n",
       "       [0, 0, 0, 6]])"
      ]
     },
     "execution_count": 41,
     "metadata": {},
     "output_type": "execute_result"
    }
   ],
   "source": [
    "array9 = np.diag((2, 1, 4, 6)); array9\n",
    "#array([[2, 0, 0, 0],\n",
    "#       [0, 1, 0, 0],\n",
    "#       [0, 0, 4, 0],\n",
    "#       [0, 0, 0, 6]])"
   ]
  },
  {
   "cell_type": "code",
   "execution_count": 43,
   "id": "4746d09e",
   "metadata": {},
   "outputs": [
    {
     "data": {
      "text/plain": [
       "array([0.54340494, 0.27836939, 0.42451759, 0.84477613, 0.00471886])"
      ]
     },
     "execution_count": 43,
     "metadata": {},
     "output_type": "execute_result"
    }
   ],
   "source": [
    "# Função rand(n) produz uma sequencia de números uniformemente distriobuidos com range de 0 a n\n",
    "np.random.seed(100) # set seed\n",
    "array10 = np.random.rand(5); array10\n",
    "# array([0.54340494, 0.27836939, 0.42451759, 0.84477613, 0.00471886])"
   ]
  },
  {
   "cell_type": "code",
   "execution_count": 44,
   "id": "9ade461f",
   "metadata": {},
   "outputs": [
    {
     "data": {
      "text/plain": [
       "array([ 0.35467445, -0.78606433, -0.2318722 ,  0.20797568,  0.93580797])"
      ]
     },
     "execution_count": 44,
     "metadata": {},
     "output_type": "execute_result"
    }
   ],
   "source": [
    "# produz uma sequencia de números com distribuição normal (Gaussian)\n",
    "array11 = np.random.randn(5); array11\n",
    "# array([ 0.35467445, -0.78606433, -0.2318722 ,  0.20797568,  0.93580797])"
   ]
  },
  {
   "cell_type": "code",
   "execution_count": 45,
   "id": "afe09a5f",
   "metadata": {},
   "outputs": [
    {
     "data": {
      "text/plain": [
       "array([[6.23042070e-307, 4.67296746e-307],\n",
       "       [1.69121096e-306, 8.45599366e-307],\n",
       "       [6.23057349e-307, 2.22526399e-307]])"
      ]
     },
     "execution_count": 45,
     "metadata": {},
     "output_type": "execute_result"
    }
   ],
   "source": [
    "array12 = np.empty((3, 2)); array12\n",
    "#array([[6.23042070e-307, 4.67296746e-307],\n",
    "#       [1.69121096e-306, 8.45599366e-307],\n",
    "#       [6.23057349e-307, 2.22526399e-307]])"
   ]
  },
  {
   "cell_type": "code",
   "execution_count": 47,
   "id": "72c95a7b",
   "metadata": {},
   "outputs": [
    {
     "data": {
      "text/plain": [
       "array([[9, 4],\n",
       "       [3, 7]])"
      ]
     },
     "execution_count": 47,
     "metadata": {},
     "output_type": "execute_result"
    }
   ],
   "source": [
    "np.array([[9, 4],[3, 7]])"
   ]
  },
  {
   "cell_type": "code",
   "execution_count": 49,
   "id": "66f8c8f8",
   "metadata": {},
   "outputs": [
    {
     "data": {
      "text/plain": [
       "array([[9, 4, 9, 4, 9, 4, 9, 4],\n",
       "       [3, 7, 3, 7, 3, 7, 3, 7]])"
      ]
     },
     "execution_count": 49,
     "metadata": {},
     "output_type": "execute_result"
    }
   ],
   "source": [
    "# Duplicando a array\n",
    "np.tile(np.array([[9, 4], [3, 7]]), 4)\n",
    "#array([[9, 4, 9, 4, 9, 4, 9, 4],\n",
    "#       [3, 7, 3, 7, 3, 7, 3, 7]])"
   ]
  },
  {
   "cell_type": "code",
   "execution_count": 50,
   "id": "f4218cfa",
   "metadata": {},
   "outputs": [
    {
     "data": {
      "text/plain": [
       "array([[9, 4, 9, 4],\n",
       "       [3, 7, 3, 7],\n",
       "       [9, 4, 9, 4],\n",
       "       [3, 7, 3, 7]])"
      ]
     },
     "execution_count": 50,
     "metadata": {},
     "output_type": "execute_result"
    }
   ],
   "source": [
    "# Duplicando a array\n",
    "np.tile(np.array([[9, 4], [3, 7]]), (2,2))\n",
    "#array([[9, 4, 9, 4],\n",
    "#       [3, 7, 3, 7],\n",
    "#       [9, 4, 9, 4],\n",
    "#       [3, 7, 3, 7]])"
   ]
  },
  {
   "cell_type": "code",
   "execution_count": null,
   "id": "56155458",
   "metadata": {},
   "outputs": [],
   "source": []
  },
  {
   "cell_type": "code",
   "execution_count": null,
   "id": "aa7a5744",
   "metadata": {},
   "outputs": [],
   "source": []
  },
  {
   "cell_type": "markdown",
   "id": "5b446d1d",
   "metadata": {},
   "source": [
    "TIPOS DE DADOS NUMPY\n",
    "\n",
    "Declando o tipo da array"
   ]
  },
  {
   "cell_type": "code",
   "execution_count": 56,
   "id": "608f50e4",
   "metadata": {},
   "outputs": [],
   "source": [
    "array13 = np.array([8, -3, 5, 9], dtype = \"float\")"
   ]
  },
  {
   "cell_type": "code",
   "execution_count": 57,
   "id": "3b3f9ca6",
   "metadata": {},
   "outputs": [
    {
     "name": "stdout",
     "output_type": "stream",
     "text": [
      "[ 8. -3.  5.  9.]\n"
     ]
    }
   ],
   "source": [
    "print(array13)"
   ]
  },
  {
   "cell_type": "code",
   "execution_count": 58,
   "id": "416c45ac",
   "metadata": {},
   "outputs": [
    {
     "data": {
      "text/plain": [
       "dtype('float64')"
      ]
     },
     "execution_count": 58,
     "metadata": {},
     "output_type": "execute_result"
    }
   ],
   "source": [
    "array13.dtype # dtype('float64')\n"
   ]
  },
  {
   "cell_type": "code",
   "execution_count": 59,
   "id": "374c68f8",
   "metadata": {},
   "outputs": [],
   "source": [
    "array14 = np.array([2, 4, 6, 8])"
   ]
  },
  {
   "cell_type": "code",
   "execution_count": 60,
   "id": "e8d34921",
   "metadata": {},
   "outputs": [
    {
     "data": {
      "text/plain": [
       "dtype('int32')"
      ]
     },
     "execution_count": 60,
     "metadata": {},
     "output_type": "execute_result"
    }
   ],
   "source": [
    "array14.dtype # dtype('int32')\n"
   ]
  },
  {
   "cell_type": "code",
   "execution_count": 61,
   "id": "60e07286",
   "metadata": {},
   "outputs": [],
   "source": [
    "array15 = np.array([2.0, 4, 6, 8])"
   ]
  },
  {
   "cell_type": "code",
   "execution_count": 62,
   "id": "32704fce",
   "metadata": {},
   "outputs": [
    {
     "data": {
      "text/plain": [
       "dtype('float64')"
      ]
     },
     "execution_count": 62,
     "metadata": {},
     "output_type": "execute_result"
    }
   ],
   "source": [
    "array15.dtype # dtype('float64')\n"
   ]
  },
  {
   "cell_type": "code",
   "execution_count": 63,
   "id": "9dc65fc4",
   "metadata": {},
   "outputs": [],
   "source": [
    "array16 = np.array([\"Data\", \"Science\", \"Academy\"])"
   ]
  },
  {
   "cell_type": "code",
   "execution_count": 64,
   "id": "e83cf977",
   "metadata": {},
   "outputs": [
    {
     "data": {
      "text/plain": [
       "dtype('<U7')"
      ]
     },
     "execution_count": 64,
     "metadata": {},
     "output_type": "execute_result"
    }
   ],
   "source": [
    "array16.dtype # dtype('<U7') unicode\n"
   ]
  },
  {
   "cell_type": "code",
   "execution_count": 66,
   "id": "70904517",
   "metadata": {},
   "outputs": [],
   "source": [
    "array17 = np.array([True, False, True])"
   ]
  },
  {
   "cell_type": "code",
   "execution_count": 67,
   "id": "59be0b0f",
   "metadata": {},
   "outputs": [
    {
     "data": {
      "text/plain": [
       "dtype('bool')"
      ]
     },
     "execution_count": 67,
     "metadata": {},
     "output_type": "execute_result"
    }
   ],
   "source": [
    "array17.dtype # dtype('bool')"
   ]
  },
  {
   "cell_type": "code",
   "execution_count": 68,
   "id": "1f6b7bb3",
   "metadata": {},
   "outputs": [],
   "source": [
    "array18 = np.array([7, -3, 5.24])"
   ]
  },
  {
   "cell_type": "code",
   "execution_count": 69,
   "id": "70e3860d",
   "metadata": {},
   "outputs": [
    {
     "data": {
      "text/plain": [
       "dtype('float64')"
      ]
     },
     "execution_count": 69,
     "metadata": {},
     "output_type": "execute_result"
    }
   ],
   "source": [
    "array18.dtype # dtype('float64')"
   ]
  },
  {
   "cell_type": "code",
   "execution_count": 71,
   "id": "ce72ef19",
   "metadata": {},
   "outputs": [
    {
     "data": {
      "text/plain": [
       "array([ 7, -3,  5])"
      ]
     },
     "execution_count": 71,
     "metadata": {},
     "output_type": "execute_result"
    }
   ],
   "source": [
    "#Converte os elementos da array\n",
    "array18.astype(int) # array([ 7, -3,  5])"
   ]
  },
  {
   "cell_type": "code",
   "execution_count": 72,
   "id": "2ecd2d1d",
   "metadata": {},
   "outputs": [
    {
     "data": {
      "text/plain": [
       "dtype('float64')"
      ]
     },
     "execution_count": 72,
     "metadata": {},
     "output_type": "execute_result"
    }
   ],
   "source": []
  },
  {
   "cell_type": "code",
   "execution_count": null,
   "id": "d61cb5b5",
   "metadata": {},
   "outputs": [],
   "source": []
  },
  {
   "cell_type": "code",
   "execution_count": null,
   "id": "870d2739",
   "metadata": {},
   "outputs": [],
   "source": []
  },
  {
   "cell_type": "markdown",
   "id": "b72a0f83",
   "metadata": {},
   "source": [
    "OPERAÇÕES COM ARRAYS"
   ]
  },
  {
   "cell_type": "code",
   "execution_count": 73,
   "id": "28521160",
   "metadata": {},
   "outputs": [],
   "source": [
    "# Array começando por 0, com 30 elementos e multiplicando por 5\n",
    "array19 = np.arange(0, 10) * 5"
   ]
  },
  {
   "cell_type": "code",
   "execution_count": 74,
   "id": "e9bcd829",
   "metadata": {},
   "outputs": [
    {
     "data": {
      "text/plain": [
       "array([ 0,  5, 10, 15, 20, 25, 30, 35, 40, 45])"
      ]
     },
     "execution_count": 74,
     "metadata": {},
     "output_type": "execute_result"
    }
   ],
   "source": [
    "array19 # array([ 0,  5, 10, 15, 20, 25, 30, 35, 40, 45])"
   ]
  },
  {
   "cell_type": "code",
   "execution_count": 75,
   "id": "2755c57f",
   "metadata": {},
   "outputs": [],
   "source": [
    "#Elevando um array a quarta potência\n",
    "array20 = np.arange(5) **4 "
   ]
  },
  {
   "cell_type": "code",
   "execution_count": 76,
   "id": "9e83c912",
   "metadata": {},
   "outputs": [
    {
     "data": {
      "text/plain": [
       "array([  0,   1,  16,  81, 256], dtype=int32)"
      ]
     },
     "execution_count": 76,
     "metadata": {},
     "output_type": "execute_result"
    }
   ],
   "source": [
    "array20 # array([  0,   1,  16,  81, 256], dtype=int32)"
   ]
  },
  {
   "cell_type": "code",
   "execution_count": 77,
   "id": "c5706d6f",
   "metadata": {},
   "outputs": [],
   "source": [
    "# Somando um número a cada elemento do array\n",
    "array21 = np.arange(0, 30) + 1"
   ]
  },
  {
   "cell_type": "code",
   "execution_count": 78,
   "id": "5a9d290b",
   "metadata": {},
   "outputs": [
    {
     "data": {
      "text/plain": [
       "array([ 1,  2,  3,  4,  5,  6,  7,  8,  9, 10, 11, 12, 13, 14, 15, 16, 17,\n",
       "       18, 19, 20, 21, 22, 23, 24, 25, 26, 27, 28, 29, 30])"
      ]
     },
     "execution_count": 78,
     "metadata": {},
     "output_type": "execute_result"
    }
   ],
   "source": [
    "array21\n",
    "#array([ 1,  2,  3,  4,  5,  6,  7,  8,  9, 10, 11, 12, 13, 14, 15, 16, 17,\n",
    "#       18, 19, 20, 21, 22, 23, 24, 25, 26, 27, 28, 29, 30])"
   ]
  },
  {
   "cell_type": "code",
   "execution_count": 85,
   "id": "9b98f6d5",
   "metadata": {},
   "outputs": [],
   "source": [
    "array22 = np.arange(0, 30, 3) + 3\n",
    "array23 = np.arange(1, 11)"
   ]
  },
  {
   "cell_type": "code",
   "execution_count": 86,
   "id": "abdde63c",
   "metadata": {},
   "outputs": [
    {
     "data": {
      "text/plain": [
       "array([ 3,  6,  9, 12, 15, 18, 21, 24, 27, 30])"
      ]
     },
     "execution_count": 86,
     "metadata": {},
     "output_type": "execute_result"
    }
   ],
   "source": [
    "array22 #array([ 3,  6,  9, 12, 15, 18, 21, 24, 27, 30])"
   ]
  },
  {
   "cell_type": "code",
   "execution_count": 87,
   "id": "08c260a0",
   "metadata": {},
   "outputs": [
    {
     "data": {
      "text/plain": [
       "array([ 1,  2,  3,  4,  5,  6,  7,  8,  9, 10])"
      ]
     },
     "execution_count": 87,
     "metadata": {},
     "output_type": "execute_result"
    }
   ],
   "source": [
    "array23 #array([ 1,  2,  3,  4,  5,  6,  7,  8,  9, 10])"
   ]
  },
  {
   "cell_type": "code",
   "execution_count": 88,
   "id": "ee611f33",
   "metadata": {},
   "outputs": [
    {
     "data": {
      "text/plain": [
       "array([ 2,  4,  6,  8, 10, 12, 14, 16, 18, 20])"
      ]
     },
     "execution_count": 88,
     "metadata": {},
     "output_type": "execute_result"
    }
   ],
   "source": [
    "array22 - array23 #array([ 2,  4,  6,  8, 10, 12, 14, 16, 18, 20])"
   ]
  },
  {
   "cell_type": "code",
   "execution_count": 89,
   "id": "f0da2898",
   "metadata": {},
   "outputs": [
    {
     "data": {
      "text/plain": [
       "array([ 4,  8, 12, 16, 20, 24, 28, 32, 36, 40])"
      ]
     },
     "execution_count": 89,
     "metadata": {},
     "output_type": "execute_result"
    }
   ],
   "source": [
    "array22 + array23 #array([ 4,  8, 12, 16, 20, 24, 28, 32, 36, 40])"
   ]
  },
  {
   "cell_type": "code",
   "execution_count": 90,
   "id": "5270199a",
   "metadata": {},
   "outputs": [
    {
     "data": {
      "text/plain": [
       "array([  3,  12,  27,  48,  75, 108, 147, 192, 243, 300])"
      ]
     },
     "execution_count": 90,
     "metadata": {},
     "output_type": "execute_result"
    }
   ],
   "source": [
    "array22 * array23 #array([  3,  12,  27,  48,  75, 108, 147, 192, 243, 300])"
   ]
  },
  {
   "cell_type": "code",
   "execution_count": 91,
   "id": "4aec51eb",
   "metadata": {},
   "outputs": [
    {
     "data": {
      "text/plain": [
       "array([3., 3., 3., 3., 3., 3., 3., 3., 3., 3.])"
      ]
     },
     "execution_count": 91,
     "metadata": {},
     "output_type": "execute_result"
    }
   ],
   "source": [
    "array22 / array23 #array([3., 3., 3., 3., 3., 3., 3., 3., 3., 3.])"
   ]
  },
  {
   "cell_type": "code",
   "execution_count": 92,
   "id": "fa0a317e",
   "metadata": {},
   "outputs": [
    {
     "data": {
      "text/plain": [
       "array([ True,  True,  True,  True,  True,  True,  True,  True,  True,\n",
       "        True])"
      ]
     },
     "execution_count": 92,
     "metadata": {},
     "output_type": "execute_result"
    }
   ],
   "source": [
    "array22 > array23 #array([ True,  True,  True,  True,  True,  True,  True,  True,  True, True])"
   ]
  },
  {
   "cell_type": "code",
   "execution_count": 94,
   "id": "fbceb63c",
   "metadata": {},
   "outputs": [],
   "source": [
    "arr1 = np.array([True, False, True, False])\n",
    "arr2 = np.array([False, False, True, False])"
   ]
  },
  {
   "cell_type": "code",
   "execution_count": 95,
   "id": "2ef5a80c",
   "metadata": {},
   "outputs": [
    {
     "data": {
      "text/plain": [
       "array([False, False,  True, False])"
      ]
     },
     "execution_count": 95,
     "metadata": {},
     "output_type": "execute_result"
    }
   ],
   "source": [
    "# Função que verifica se cada elementos da arrays são identicas\n",
    "np.logical_and(arr1, arr2)"
   ]
  },
  {
   "cell_type": "code",
   "execution_count": null,
   "id": "b99511b3",
   "metadata": {},
   "outputs": [],
   "source": []
  }
 ],
 "metadata": {
  "kernelspec": {
   "display_name": "Python 3 (ipykernel)",
   "language": "python",
   "name": "python3"
  },
  "language_info": {
   "codemirror_mode": {
    "name": "ipython",
    "version": 3
   },
   "file_extension": ".py",
   "mimetype": "text/x-python",
   "name": "python",
   "nbconvert_exporter": "python",
   "pygments_lexer": "ipython3",
   "version": "3.9.13"
  }
 },
 "nbformat": 4,
 "nbformat_minor": 5
}
